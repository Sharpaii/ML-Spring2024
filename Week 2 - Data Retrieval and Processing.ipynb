{
  "cells": [
    {
      "cell_type": "markdown",
      "metadata": {
        "id": "2OpN9hOwEkLH"
      },
      "source": [
        "Original Author: mingchen@fullerton.edu\n",
        "<br>Last Updated: 02/14/24 by Madeline Sharpe\n",
        "<br>License: CC BY-NC-SA 4.0\n",
        "<br>Recommend to use on google colab with dark theme.\n",
        "<br>Format might show incorrectly elsewhere.\n",
        "<br>\n",
        "<img src=\"https://creativecommons.org/images/deed/cc_blue_x2.png\" alt=\"cc\" width=\"30\"/>\n",
        "<img src=\"https://creativecommons.org/images/deed/attribution_icon_blue_x2.png\" alt=\"cc by\" width=\"30\"/>\n",
        "<img src=\"https://creativecommons.org/images/deed/nc_blue_x2.png\" alt=\"cc nc\" width=\"30\"/>\n",
        "<img src=\"https://creativecommons.org/images/deed/sa_blue_x2.png\" alt=\"cc sa\" width=\"30\"/>"
      ]
    },
    {
      "cell_type": "markdown",
      "metadata": {
        "id": "uhryd9JhBYfl"
      },
      "source": [
        "### <b>Sample Data Retrieval and Processing"
      ]
    },
    {
      "cell_type": "markdown",
      "metadata": {
        "id": "YPmDG4STByoB"
      },
      "source": [
        "Now we got a project question: Does money make people happy?\n",
        "<br>\n",
        "<br> To address this question, what data may we find?\n"
      ]
    },
    {
      "cell_type": "markdown",
      "metadata": {
        "id": "gHGxUuAwvYxc"
      },
      "source": [
        "#### possible data source"
      ]
    },
    {
      "cell_type": "markdown",
      "metadata": {
        "id": "9M-poq5xvddN"
      },
      "source": [
        "Instinctively, we may think about finding how much money people earn, and some kind of measurement of their happiness.\n",
        "<br>\n",
        "<br> How much money people earn can be represented by GDP of a country, and happiness by life satisfaction"
      ]
    },
    {
      "cell_type": "markdown",
      "metadata": {
        "id": "2bYt-3LxBtvG"
      },
      "source": [
        "#### <b>Find Data"
      ]
    },
    {
      "cell_type": "markdown",
      "metadata": {
        "id": "isa345CiBxPZ"
      },
      "source": [
        "Now the next step is to find and retrive data.\n",
        "<br>\n",
        "<br> National GDP can be found on [WEO's website](https://www.imf.org/en/Publications/WEO/weo-database/2023/October), and life satisfaction can be found on [OECD's website](https://stats.oecd.org/Index.aspx?DataSetCode=HSL)"
      ]
    },
    {
      "cell_type": "markdown",
      "metadata": {
        "id": "aeFxxYddxqVu"
      },
      "source": [
        "#### <b>Retriving Data"
      ]
    },
    {
      "cell_type": "markdown",
      "metadata": {
        "id": "Rdh6gfBNx3-M"
      },
      "source": [
        "In this case, we can easily download data from websites, and load them in raw format."
      ]
    },
    {
      "cell_type": "code",
      "execution_count": null,
      "metadata": {
        "colab": {
          "base_uri": "https://localhost:8080/",
          "height": 129
        },
        "id": "smRnQ3I9UTeg",
        "outputId": "4b5c1f67-0422-4f2a-9723-90dd49e29d6e"
      },
      "outputs": [
        {
          "name": "stdout",
          "output_type": "stream",
          "text": [
            "Mounted at /content/drive\n"
          ]
        },
        {
          "data": {
            "text/html": [
              "\n",
              "     <input type=\"file\" id=\"files-6fc0c633-5815-4e68-8603-1a5881d89bd4\" name=\"files[]\" multiple disabled\n",
              "        style=\"border:none\" />\n",
              "     <output id=\"result-6fc0c633-5815-4e68-8603-1a5881d89bd4\">\n",
              "      Upload widget is only available when the cell has been executed in the\n",
              "      current browser session. Please rerun this cell to enable.\n",
              "      </output>\n",
              "      <script>// Copyright 2017 Google LLC\n",
              "//\n",
              "// Licensed under the Apache License, Version 2.0 (the \"License\");\n",
              "// you may not use this file except in compliance with the License.\n",
              "// You may obtain a copy of the License at\n",
              "//\n",
              "//      http://www.apache.org/licenses/LICENSE-2.0\n",
              "//\n",
              "// Unless required by applicable law or agreed to in writing, software\n",
              "// distributed under the License is distributed on an \"AS IS\" BASIS,\n",
              "// WITHOUT WARRANTIES OR CONDITIONS OF ANY KIND, either express or implied.\n",
              "// See the License for the specific language governing permissions and\n",
              "// limitations under the License.\n",
              "\n",
              "/**\n",
              " * @fileoverview Helpers for google.colab Python module.\n",
              " */\n",
              "(function(scope) {\n",
              "function span(text, styleAttributes = {}) {\n",
              "  const element = document.createElement('span');\n",
              "  element.textContent = text;\n",
              "  for (const key of Object.keys(styleAttributes)) {\n",
              "    element.style[key] = styleAttributes[key];\n",
              "  }\n",
              "  return element;\n",
              "}\n",
              "\n",
              "// Max number of bytes which will be uploaded at a time.\n",
              "const MAX_PAYLOAD_SIZE = 100 * 1024;\n",
              "\n",
              "function _uploadFiles(inputId, outputId) {\n",
              "  const steps = uploadFilesStep(inputId, outputId);\n",
              "  const outputElement = document.getElementById(outputId);\n",
              "  // Cache steps on the outputElement to make it available for the next call\n",
              "  // to uploadFilesContinue from Python.\n",
              "  outputElement.steps = steps;\n",
              "\n",
              "  return _uploadFilesContinue(outputId);\n",
              "}\n",
              "\n",
              "// This is roughly an async generator (not supported in the browser yet),\n",
              "// where there are multiple asynchronous steps and the Python side is going\n",
              "// to poll for completion of each step.\n",
              "// This uses a Promise to block the python side on completion of each step,\n",
              "// then passes the result of the previous step as the input to the next step.\n",
              "function _uploadFilesContinue(outputId) {\n",
              "  const outputElement = document.getElementById(outputId);\n",
              "  const steps = outputElement.steps;\n",
              "\n",
              "  const next = steps.next(outputElement.lastPromiseValue);\n",
              "  return Promise.resolve(next.value.promise).then((value) => {\n",
              "    // Cache the last promise value to make it available to the next\n",
              "    // step of the generator.\n",
              "    outputElement.lastPromiseValue = value;\n",
              "    return next.value.response;\n",
              "  });\n",
              "}\n",
              "\n",
              "/**\n",
              " * Generator function which is called between each async step of the upload\n",
              " * process.\n",
              " * @param {string} inputId Element ID of the input file picker element.\n",
              " * @param {string} outputId Element ID of the output display.\n",
              " * @return {!Iterable<!Object>} Iterable of next steps.\n",
              " */\n",
              "function* uploadFilesStep(inputId, outputId) {\n",
              "  const inputElement = document.getElementById(inputId);\n",
              "  inputElement.disabled = false;\n",
              "\n",
              "  const outputElement = document.getElementById(outputId);\n",
              "  outputElement.innerHTML = '';\n",
              "\n",
              "  const pickedPromise = new Promise((resolve) => {\n",
              "    inputElement.addEventListener('change', (e) => {\n",
              "      resolve(e.target.files);\n",
              "    });\n",
              "  });\n",
              "\n",
              "  const cancel = document.createElement('button');\n",
              "  inputElement.parentElement.appendChild(cancel);\n",
              "  cancel.textContent = 'Cancel upload';\n",
              "  const cancelPromise = new Promise((resolve) => {\n",
              "    cancel.onclick = () => {\n",
              "      resolve(null);\n",
              "    };\n",
              "  });\n",
              "\n",
              "  // Wait for the user to pick the files.\n",
              "  const files = yield {\n",
              "    promise: Promise.race([pickedPromise, cancelPromise]),\n",
              "    response: {\n",
              "      action: 'starting',\n",
              "    }\n",
              "  };\n",
              "\n",
              "  cancel.remove();\n",
              "\n",
              "  // Disable the input element since further picks are not allowed.\n",
              "  inputElement.disabled = true;\n",
              "\n",
              "  if (!files) {\n",
              "    return {\n",
              "      response: {\n",
              "        action: 'complete',\n",
              "      }\n",
              "    };\n",
              "  }\n",
              "\n",
              "  for (const file of files) {\n",
              "    const li = document.createElement('li');\n",
              "    li.append(span(file.name, {fontWeight: 'bold'}));\n",
              "    li.append(span(\n",
              "        `(${file.type || 'n/a'}) - ${file.size} bytes, ` +\n",
              "        `last modified: ${\n",
              "            file.lastModifiedDate ? file.lastModifiedDate.toLocaleDateString() :\n",
              "                                    'n/a'} - `));\n",
              "    const percent = span('0% done');\n",
              "    li.appendChild(percent);\n",
              "\n",
              "    outputElement.appendChild(li);\n",
              "\n",
              "    const fileDataPromise = new Promise((resolve) => {\n",
              "      const reader = new FileReader();\n",
              "      reader.onload = (e) => {\n",
              "        resolve(e.target.result);\n",
              "      };\n",
              "      reader.readAsArrayBuffer(file);\n",
              "    });\n",
              "    // Wait for the data to be ready.\n",
              "    let fileData = yield {\n",
              "      promise: fileDataPromise,\n",
              "      response: {\n",
              "        action: 'continue',\n",
              "      }\n",
              "    };\n",
              "\n",
              "    // Use a chunked sending to avoid message size limits. See b/62115660.\n",
              "    let position = 0;\n",
              "    do {\n",
              "      const length = Math.min(fileData.byteLength - position, MAX_PAYLOAD_SIZE);\n",
              "      const chunk = new Uint8Array(fileData, position, length);\n",
              "      position += length;\n",
              "\n",
              "      const base64 = btoa(String.fromCharCode.apply(null, chunk));\n",
              "      yield {\n",
              "        response: {\n",
              "          action: 'append',\n",
              "          file: file.name,\n",
              "          data: base64,\n",
              "        },\n",
              "      };\n",
              "\n",
              "      let percentDone = fileData.byteLength === 0 ?\n",
              "          100 :\n",
              "          Math.round((position / fileData.byteLength) * 100);\n",
              "      percent.textContent = `${percentDone}% done`;\n",
              "\n",
              "    } while (position < fileData.byteLength);\n",
              "  }\n",
              "\n",
              "  // All done.\n",
              "  yield {\n",
              "    response: {\n",
              "      action: 'complete',\n",
              "    }\n",
              "  };\n",
              "}\n",
              "\n",
              "scope.google = scope.google || {};\n",
              "scope.google.colab = scope.google.colab || {};\n",
              "scope.google.colab._files = {\n",
              "  _uploadFiles,\n",
              "  _uploadFilesContinue,\n",
              "};\n",
              "})(self);\n",
              "</script> "
            ],
            "text/plain": [
              "<IPython.core.display.HTML object>"
            ]
          },
          "metadata": {},
          "output_type": "display_data"
        },
        {
          "name": "stdout",
          "output_type": "stream",
          "text": [
            "Saving HSL_ALL.csv to HSL_ALL.csv\n",
            "Saving WEOOct2023all.xls to WEOOct2023all.xls\n"
          ]
        }
      ],
      "source": [
        "from google.colab import drive,files\n",
        "drive.mount('/content/drive')\n",
        "uploaded = files.upload()\n"
      ]
    },
    {
      "cell_type": "markdown",
      "metadata": {
        "id": "SaPXoXF7yZGZ"
      },
      "source": [
        "#### <b>Processing Data"
      ]
    },
    {
      "cell_type": "markdown",
      "metadata": {
        "id": "sypdEnnvydH4"
      },
      "source": [
        "Data we retrive from the websites contain more data than what we are looking for, and now we need to select necessary data from it."
      ]
    },
    {
      "cell_type": "markdown",
      "metadata": {
        "id": "EcqnZp33zA8y"
      },
      "source": [
        "#### Check Data"
      ]
    },
    {
      "cell_type": "markdown",
      "metadata": {
        "id": "goc2N_kXzfr1"
      },
      "source": [
        "##### Happiness"
      ]
    },
    {
      "cell_type": "code",
      "execution_count": 5,
      "metadata": {
        "colab": {
          "base_uri": "https://localhost:8080/"
        },
        "id": "VBWZ0RN_y5uC",
        "outputId": "2559f1e0-9739-46f5-9e55-382b080296d9"
      },
      "outputs": [
        {
          "name": "stdout",
          "output_type": "stream",
          "text": [
            "      LOCATION    Country TYPE_VAR Type of indicator VARIABLE  \\\n",
            "0          AUS  Australia  AVERAGE           Average      1_1   \n",
            "1          AUS  Australia  AVERAGE           Average      1_1   \n",
            "2          AUS  Australia  AVERAGE           Average      1_1   \n",
            "3          AUS  Australia  AVERAGE           Average      1_1   \n",
            "4          AUS  Australia  AVERAGE           Average      1_1   \n",
            "...        ...        ...      ...               ...      ...   \n",
            "17544      DEU    Germany      DEP       Deprivation      2_8   \n",
            "17545      DEU    Germany      DEP       Deprivation      2_8   \n",
            "17546      MEX     Mexico      DEP       Deprivation      4_4   \n",
            "17547      CAN     Canada      DEP       Deprivation      4_4   \n",
            "17548      CAN     Canada      DEP       Deprivation      4_4   \n",
            "\n",
            "                        Indicator   WB Current/Future Well-being  SEX  \\\n",
            "0                Household income  CWB        Current Well-being  TOT   \n",
            "1                Household income  CWB        Current Well-being  TOT   \n",
            "2                Household income  CWB        Current Well-being  TOT   \n",
            "3                Household income  CWB        Current Well-being  TOT   \n",
            "4                Household income  CWB        Current Well-being  TOT   \n",
            "...                           ...  ...                       ...  ...   \n",
            "17544                    Earnings  CWB        Current Well-being  TOT   \n",
            "17545                    Earnings  CWB        Current Well-being  TOT   \n",
            "17546  Satisfaction with time use  CWB        Current Well-being  TOT   \n",
            "17547  Satisfaction with time use  CWB        Current Well-being  TOT   \n",
            "17548  Satisfaction with time use  CWB        Current Well-being  TOT   \n",
            "\n",
            "                    Sex  AGE               Age EDUCATION         Education  \\\n",
            "0      Total population  TOT  Total population       TOT  Total population   \n",
            "1      Total population  TOT  Total population       TOT  Total population   \n",
            "2      Total population  TOT  Total population       TOT  Total population   \n",
            "3      Total population  TOT  Total population       TOT  Total population   \n",
            "4      Total population  TOT  Total population       TOT  Total population   \n",
            "...                 ...  ...               ...       ...               ...   \n",
            "17544  Total population  TOT  Total population       TOT  Total population   \n",
            "17545  Total population  TOT  Total population       TOT  Total population   \n",
            "17546  Total population  TOT  Total population       TOT  Total population   \n",
            "17547  Total population  TOT  Total population       TOT  Total population   \n",
            "17548  Total population  TOT  Total population       TOT  Total population   \n",
            "\n",
            "       TIME  Time         Value Flag Codes Flags  \n",
            "0      2004  2004  28476.000000        NaN   NaN  \n",
            "1      2005  2005  28730.000000        NaN   NaN  \n",
            "2      2006  2006  29777.000000        NaN   NaN  \n",
            "3      2007  2007  30911.000000        NaN   NaN  \n",
            "4      2008  2008  32475.000000        NaN   NaN  \n",
            "...     ...   ...           ...        ...   ...  \n",
            "17544  2019  2019     17.635464        NaN   NaN  \n",
            "17545  2020  2020     16.983873        NaN   NaN  \n",
            "17546  2021  2021      7.703481        NaN   NaN  \n",
            "17547  2021  2021      6.200000        NaN   NaN  \n",
            "17548  2022  2022      6.700000        NaN   NaN  \n",
            "\n",
            "[17549 rows x 19 columns]\n"
          ]
        },
        {
          "name": "stderr",
          "output_type": "stream",
          "text": [
            "C:\\Users\\madel\\AppData\\Local\\Temp\\ipykernel_17620\\1713444062.py:2: DeprecationWarning: \n",
            "Pyarrow will become a required dependency of pandas in the next major release of pandas (pandas 3.0),\n",
            "(to allow more performant data types, such as the Arrow string type, and better interoperability with other libraries)\n",
            "but was not found to be installed on your system.\n",
            "If this would cause problems for you,\n",
            "please provide us feedback at https://github.com/pandas-dev/pandas/issues/54466\n",
            "        \n",
            "  import pandas as pd\n"
          ]
        }
      ],
      "source": [
        "import numpy as np\n",
        "import pandas as pd\n",
        "import ipywidgets as widgets\n",
        "\n",
        "hls_all_raw = pd.read_csv(\"C:/Users/madel/Downloads/HSL_15022024000214827.csv\")\n",
        "print(hls_all_raw)"
      ]
    },
    {
      "cell_type": "markdown",
      "metadata": {
        "id": "sFHHy96kzpnh"
      },
      "source": [
        "Then we select part of the data from the dataset"
      ]
    },
    {
      "cell_type": "code",
      "execution_count": 6,
      "metadata": {
        "colab": {
          "base_uri": "https://localhost:8080/"
        },
        "id": "jSAsmHBxztTn",
        "outputId": "e11a5497-3c78-40c0-defa-a1a24903f3dd"
      },
      "outputs": [
        {
          "name": "stdout",
          "output_type": "stream",
          "text": [
            "0                  Household income\n",
            "1                  Household income\n",
            "2                  Household income\n",
            "3                  Household income\n",
            "4                  Household income\n",
            "                    ...            \n",
            "17544                      Earnings\n",
            "17545                      Earnings\n",
            "17546    Satisfaction with time use\n",
            "17547    Satisfaction with time use\n",
            "17548    Satisfaction with time use\n",
            "Name: Indicator, Length: 17549, dtype: object\n",
            "\n",
            "===========================================================\n",
            "\n",
            "         Country                   Indicator Type of indicator  Time  \\\n",
            "0      Australia            Household income           Average  2004   \n",
            "1      Australia            Household income           Average  2005   \n",
            "2      Australia            Household income           Average  2006   \n",
            "3      Australia            Household income           Average  2007   \n",
            "4      Australia            Household income           Average  2008   \n",
            "...          ...                         ...               ...   ...   \n",
            "17544    Germany                    Earnings       Deprivation  2019   \n",
            "17545    Germany                    Earnings       Deprivation  2020   \n",
            "17546     Mexico  Satisfaction with time use       Deprivation  2021   \n",
            "17547     Canada  Satisfaction with time use       Deprivation  2021   \n",
            "17548     Canada  Satisfaction with time use       Deprivation  2022   \n",
            "\n",
            "              Value  \n",
            "0      28476.000000  \n",
            "1      28730.000000  \n",
            "2      29777.000000  \n",
            "3      30911.000000  \n",
            "4      32475.000000  \n",
            "...             ...  \n",
            "17544     17.635464  \n",
            "17545     16.983873  \n",
            "17546      7.703481  \n",
            "17547      6.200000  \n",
            "17548      6.700000  \n",
            "\n",
            "[17549 rows x 5 columns]\n"
          ]
        }
      ],
      "source": [
        "print(hls_all_raw[\"Indicator\"])\n",
        "print(\"\\n===========================================================\\n\")\n",
        "hls_slice = pd.DataFrame(hls_all_raw, columns =[\"Country\",\"Indicator\",\"Type of indicator\",\"Time\",\"Value\"])\n",
        "print(hls_slice)"
      ]
    },
    {
      "cell_type": "markdown",
      "metadata": {
        "id": "7EKeZEqSz--u"
      },
      "source": [
        "And then process it into what we need"
      ]
    },
    {
      "cell_type": "code",
      "execution_count": 7,
      "metadata": {
        "colab": {
          "base_uri": "https://localhost:8080/"
        },
        "id": "QiJVzi3Wzx_g",
        "outputId": "681c949f-6fd8-4cb9-af11-4ea634e547f8"
      },
      "outputs": [
        {
          "name": "stdout",
          "output_type": "stream",
          "text": [
            "         Country          Indicator Type of indicator  Time     Value\n",
            "180    Australia  Life satisfaction           Average  2014  7.600000\n",
            "181    Australia  Life satisfaction           Average  2019  7.500000\n",
            "182    Australia  Life satisfaction           Average  2020  7.200000\n",
            "489      Austria  Life satisfaction           Average  2013  7.800000\n",
            "490      Austria  Life satisfaction           Average  2018  8.002416\n",
            "...          ...                ...               ...   ...       ...\n",
            "15227     Canada  Life satisfaction       Deprivation  2017  2.800000\n",
            "15228     Canada  Life satisfaction       Deprivation  2018  2.500000\n",
            "15229     Canada  Life satisfaction       Deprivation  2019  2.500000\n",
            "15230     Canada  Life satisfaction       Deprivation  2020  2.800000\n",
            "15231     Canada  Life satisfaction       Deprivation  2021  2.800000\n",
            "\n",
            "[224 rows x 5 columns]\n",
            "\n",
            "===========================================================\n",
            "\n",
            "Total records:\n",
            "224\n",
            "\n",
            "===========================================================\n",
            "\n",
            "Total Unique Countries:\n",
            "35\n",
            "\n",
            "===========================================================\n",
            "\n",
            "Country List\n",
            "['Australia' 'Austria' 'Belgium' 'Canada' 'Czechia' 'Denmark' 'Finland'\n",
            " 'France' 'Germany' 'Greece' 'Hungary' 'Iceland' 'Ireland' 'Italy' 'Japan'\n",
            " 'Korea' 'Luxembourg' 'Mexico' 'Netherlands' 'New Zealand' 'Norway'\n",
            " 'Poland' 'Portugal' 'Slovak Republic' 'Spain' 'Sweden' 'Switzerland'\n",
            " 'Türkiye' 'United Kingdom' 'Colombia' 'Estonia' 'Israel' 'Latvia'\n",
            " 'Lithuania' 'Slovenia']\n"
          ]
        }
      ],
      "source": [
        "hls_ls = hls_slice.loc[hls_all_raw[\"Indicator\"] == \"Life satisfaction\"]\n",
        "print(hls_ls)\n",
        "print(\"\\n===========================================================\\n\")\n",
        "print(\"Total records:\")\n",
        "print(len(hls_ls))\n",
        "\n",
        "print(\"\\n===========================================================\\n\")\n",
        "print(\"Total Unique Countries:\")\n",
        "print(len(hls_ls[\"Country\"].unique()))\n",
        "\n",
        "print(\"\\n===========================================================\\n\")\n",
        "print(\"Country List\")\n",
        "print(hls_ls[\"Country\"].unique())"
      ]
    },
    {
      "cell_type": "code",
      "execution_count": 8,
      "metadata": {
        "colab": {
          "base_uri": "https://localhost:8080/"
        },
        "id": "wTggu4b60Xyp",
        "outputId": "7eaa436b-1d9b-4652-aca4-6ddd0d98e342"
      },
      "outputs": [
        {
          "name": "stdout",
          "output_type": "stream",
          "text": [
            "\n",
            "===========================================================\n",
            "\n",
            "Total records:\n",
            "31\n",
            "\n",
            "===========================================================\n",
            "\n",
            "Total Unique Countries:\n",
            "31\n",
            "\n",
            "===========================================================\n",
            "\n",
            "Record:\n",
            "               Country          Indicator Type of indicator  Time     Value\n",
            "490            Austria  Life satisfaction           Average  2018  8.002416\n",
            "836            Belgium  Life satisfaction           Average  2018  7.600000\n",
            "1163            Canada  Life satisfaction           Average  2018  8.100000\n",
            "1485           Czechia  Life satisfaction           Average  2018  7.436458\n",
            "1823           Denmark  Life satisfaction           Average  2018  7.761102\n",
            "2166           Finland  Life satisfaction           Average  2018  8.122618\n",
            "2511            France  Life satisfaction           Average  2018  7.254388\n",
            "2855           Germany  Life satisfaction           Average  2018  7.400000\n",
            "3188            Greece  Life satisfaction           Average  2018  6.437686\n",
            "3540           Hungary  Life satisfaction           Average  2018  6.506272\n",
            "3850           Iceland  Life satisfaction           Average  2018  7.921508\n",
            "4148           Ireland  Life satisfaction           Average  2018  8.100000\n",
            "4496             Italy  Life satisfaction           Average  2018  7.074031\n",
            "5125             Korea  Life satisfaction           Average  2018  6.100000\n",
            "5410        Luxembourg  Life satisfaction           Average  2018  7.556332\n",
            "5992       Netherlands  Life satisfaction           Average  2018  7.695520\n",
            "6305       New Zealand  Life satisfaction           Average  2018  7.700000\n",
            "6603            Norway  Life satisfaction           Average  2018  7.980364\n",
            "6940            Poland  Life satisfaction           Average  2018  7.783059\n",
            "7283          Portugal  Life satisfaction           Average  2018  6.689225\n",
            "7587   Slovak Republic  Life satisfaction           Average  2018  7.100000\n",
            "7930             Spain  Life satisfaction           Average  2018  7.300000\n",
            "8276            Sweden  Life satisfaction           Average  2018  7.796567\n",
            "8593       Switzerland  Life satisfaction           Average  2018  7.963366\n",
            "8837           Türkiye  Life satisfaction           Average  2018  5.700000\n",
            "9174    United Kingdom  Life satisfaction           Average  2018  7.710000\n",
            "10096         Colombia  Life satisfaction           Average  2018  8.264853\n",
            "10522          Estonia  Life satisfaction           Average  2018  7.005767\n",
            "11103           Latvia  Life satisfaction           Average  2018  6.737704\n",
            "11425        Lithuania  Life satisfaction           Average  2018  6.382413\n",
            "11895         Slovenia  Life satisfaction           Average  2018  7.310714\n"
          ]
        }
      ],
      "source": [
        "hls_train = hls_ls.loc[hls_ls[\"Time\"] == 2018]\n",
        "hls_train = hls_train.loc[hls_ls[\"Type of indicator\"] == \"Average\"]\n",
        "print(\"\\n===========================================================\\n\")\n",
        "print(\"Total records:\")\n",
        "print(len(hls_train))\n",
        "\n",
        "print(\"\\n===========================================================\\n\")\n",
        "print(\"Total Unique Countries:\")\n",
        "print(len(hls_train[\"Country\"].unique()))\n",
        "\n",
        "print(\"\\n===========================================================\\n\")\n",
        "print(\"Record:\")\n",
        "print(hls_train)"
      ]
    },
    {
      "cell_type": "markdown",
      "metadata": {
        "id": "Xrch-_xU0TG3"
      },
      "source": [
        "Note: If you know which row & col you are looking for in the beginning, you can combine many steps into one."
      ]
    },
    {
      "cell_type": "markdown",
      "metadata": {
        "id": "8UAY63BU0uYh"
      },
      "source": [
        "##### GDP"
      ]
    },
    {
      "cell_type": "code",
      "execution_count": 9,
      "metadata": {
        "colab": {
          "base_uri": "https://localhost:8080/"
        },
        "id": "Df5Vs06p01me",
        "outputId": "8df4db2c-8cea-492d-dca0-3dff14504494"
      },
      "outputs": [
        {
          "name": "stdout",
          "output_type": "stream",
          "text": [
            "                                       WEO Country Code  ISO WEO Subject Code  \\\n",
            "0                                                   512  AFG           NGDP_R   \n",
            "1                                                   512  AFG        NGDP_RPCH   \n",
            "2                                                   512  AFG             NGDP   \n",
            "3                                                   512  AFG            NGDPD   \n",
            "4                                                   512  AFG           PPPGDP   \n",
            "...                                                 ...  ...              ...   \n",
            "8621                                                698  ZWE          NGDP_FY   \n",
            "8622                                                698  ZWE              BCA   \n",
            "8623                                                698  ZWE        BCA_NGDPD   \n",
            "8624                                                NaN  NaN              NaN   \n",
            "8625  International Monetary Fund, World Economic Ou...  NaN              NaN   \n",
            "\n",
            "          Country                                 Subject Descriptor  \\\n",
            "0     Afghanistan            Gross domestic product, constant prices   \n",
            "1     Afghanistan            Gross domestic product, constant prices   \n",
            "2     Afghanistan             Gross domestic product, current prices   \n",
            "3     Afghanistan             Gross domestic product, current prices   \n",
            "4     Afghanistan             Gross domestic product, current prices   \n",
            "...           ...                                                ...   \n",
            "8621     Zimbabwe  Gross domestic product corresponding to fiscal...   \n",
            "8622     Zimbabwe                            Current account balance   \n",
            "8623     Zimbabwe                            Current account balance   \n",
            "8624          NaN                                                NaN   \n",
            "8625          NaN                                                NaN   \n",
            "\n",
            "                                          Subject Notes  \\\n",
            "0     Expressed in billions of national currency uni...   \n",
            "1     Annual percentages of constant price GDP are y...   \n",
            "2     Expressed in billions of national currency uni...   \n",
            "3     Values are based upon GDP in national currency...   \n",
            "4     These data form the basis for the country weig...   \n",
            "...                                                 ...   \n",
            "8621  Gross domestic product corresponding to fiscal...   \n",
            "8622  Current account is all transactions other than...   \n",
            "8623  Current account is all transactions other than...   \n",
            "8624                                                NaN   \n",
            "8625                                                NaN   \n",
            "\n",
            "                                               Units     Scale  \\\n",
            "0                                  National currency  Billions   \n",
            "1                                     Percent change       NaN   \n",
            "2                                  National currency  Billions   \n",
            "3                                       U.S. dollars  Billions   \n",
            "4     Purchasing power parity; international dollars  Billions   \n",
            "...                                              ...       ...   \n",
            "8621                               National currency  Billions   \n",
            "8622                                    U.S. dollars  Billions   \n",
            "8623                                  Percent of GDP       NaN   \n",
            "8624                                             NaN       NaN   \n",
            "8625                                             NaN       NaN   \n",
            "\n",
            "                          Country/Series-specific Notes    1980  ...  \\\n",
            "0     Source: National Statistics Office Latest actu...     NaN  ...   \n",
            "1     See notes for:  Gross domestic product, consta...     NaN  ...   \n",
            "2     Source: National Statistics Office Latest actu...     NaN  ...   \n",
            "3     See notes for:  Gross domestic product, curren...     NaN  ...   \n",
            "4     See notes for:  Gross domestic product, curren...     NaN  ...   \n",
            "...                                                 ...     ...  ...   \n",
            "8621  Source: Ministry of Finance or Treasury Latest...     NaN  ...   \n",
            "8622  Source: Reserve Bank of Zimbabwe and Ministry ...  -0.301  ...   \n",
            "8623  See notes for:  Gross domestic product, curren...     NaN  ...   \n",
            "8624                                                NaN     NaN  ...   \n",
            "8625                                                NaN     NaN  ...   \n",
            "\n",
            "          2020      2021       2022        2023        2024          2025  \\\n",
            "0     1,288.87  1,021.60        NaN         NaN         NaN           NaN   \n",
            "1       -2.351   -20.737        NaN         NaN         NaN           NaN   \n",
            "2     1,547.29  1,232.86        NaN         NaN         NaN           NaN   \n",
            "3       20.136    14.941        NaN         NaN         NaN           NaN   \n",
            "4       81.007    67.093        NaN         NaN         NaN           NaN   \n",
            "...        ...       ...        ...         ...         ...           ...   \n",
            "8621  1,380.14  3,187.63  12,292.67  111,864.93  474,084.10  1,102,309.64   \n",
            "8622     0.678     0.348      0.321        0.28      -0.317        -0.411   \n",
            "8623     2.521     0.968      1.019       0.863      -0.673        -0.827   \n",
            "8624       NaN       NaN        NaN         NaN         NaN           NaN   \n",
            "8625       NaN       NaN        NaN         NaN         NaN           NaN   \n",
            "\n",
            "              2026          2027          2028 Estimates Start After  \n",
            "0              NaN           NaN           NaN                2021.0  \n",
            "1              NaN           NaN           NaN                2021.0  \n",
            "2              NaN           NaN           NaN                2021.0  \n",
            "3              NaN           NaN           NaN                2021.0  \n",
            "4              NaN           NaN           NaN                2021.0  \n",
            "...            ...           ...           ...                   ...  \n",
            "8621  2,089,955.60  3,126,416.82  4,128,929.25                2021.0  \n",
            "8622        -0.466        -0.512         -0.55                2022.0  \n",
            "8623        -0.922        -1.081         -1.12                2022.0  \n",
            "8624           NaN           NaN           NaN                   NaN  \n",
            "8625           NaN           NaN           NaN                   NaN  \n",
            "\n",
            "[8626 rows x 59 columns]\n",
            "['WEO Country Code', 'ISO', 'WEO Subject Code', 'Country', 'Subject Descriptor', 'Subject Notes', 'Units', 'Scale', 'Country/Series-specific Notes', '1980', '1981', '1982', '1983', '1984', '1985', '1986', '1987', '1988', '1989', '1990', '1991', '1992', '1993', '1994', '1995', '1996', '1997', '1998', '1999', '2000', '2001', '2002', '2003', '2004', '2005', '2006', '2007', '2008', '2009', '2010', '2011', '2012', '2013', '2014', '2015', '2016', '2017', '2018', '2019', '2020', '2021', '2022', '2023', '2024', '2025', '2026', '2027', '2028', 'Estimates Start After']\n"
          ]
        }
      ],
      "source": [
        "weo_raw = pd.read_csv(\"C:/Users/madel/Downloads/WEOOct2023all.xls\", sep='\\t', encoding='ANSI')\n",
        "print(weo_raw)\n",
        "\n",
        "print(weo_raw.columns.tolist())"
      ]
    },
    {
      "cell_type": "markdown",
      "metadata": {
        "id": "lbaohDV31X9G"
      },
      "source": [
        "Note: the raw data is a TSV (tab separated values) file containing a line you need to delete for simple processing at the end. It is already deleted before I upload it to drive."
      ]
    },
    {
      "cell_type": "code",
      "execution_count": 10,
      "metadata": {
        "colab": {
          "base_uri": "https://localhost:8080/"
        },
        "id": "7chPZMbI2PkC",
        "outputId": "d27784bd-df2a-480e-b03b-0134a7364ace"
      },
      "outputs": [
        {
          "name": "stdout",
          "output_type": "stream",
          "text": [
            "                 Country    2018\n",
            "1            Afghanistan   1.189\n",
            "45               Albania   4.019\n",
            "89               Algeria     1.2\n",
            "133              Andorra   1.589\n",
            "177               Angola  -1.316\n",
            "...                  ...     ...\n",
            "8405             Vietnam   7.465\n",
            "8449  West Bank and Gaza   1.227\n",
            "8493               Yemen   0.752\n",
            "8537              Zambia   4.035\n",
            "8581            Zimbabwe   4.987\n",
            "\n",
            "[196 rows x 2 columns]\n"
          ]
        }
      ],
      "source": [
        "weo_selected_measurement = weo_raw.loc[weo_raw['WEO Subject Code'].str.contains(\"NGDP_RPCH\", na=False)]\n",
        "weo_selected_measurement_2018 = pd.DataFrame(weo_selected_measurement, columns=['Country', '2018'])\n",
        "\n",
        "print(weo_selected_measurement_2018)\n"
      ]
    },
    {
      "cell_type": "markdown",
      "metadata": {
        "id": "tLG4g0ByOZIh"
      },
      "source": [
        "#### Clean Data for Training"
      ]
    },
    {
      "cell_type": "code",
      "execution_count": 11,
      "metadata": {
        "colab": {
          "base_uri": "https://localhost:8080/"
        },
        "id": "beoHC2eHOZaF",
        "outputId": "34c6962a-1d98-47b4-a4be-b09e8e713e9e"
      },
      "outputs": [
        {
          "name": "stdout",
          "output_type": "stream",
          "text": [
            "            Country  Happiness Measurement Income Measurement\n",
            "0           Austria               8.002416              2.425\n",
            "1           Belgium               7.600000              1.793\n",
            "2            Canada               8.100000              2.777\n",
            "3           Denmark               7.761102              1.991\n",
            "4           Finland               8.122618               1.14\n",
            "5            France               7.254388              1.818\n",
            "6           Germany               7.400000              0.984\n",
            "7            Greece               6.437686              1.668\n",
            "8           Hungary               6.506272              5.362\n",
            "9           Iceland               7.921508              4.889\n",
            "10          Ireland               8.100000              8.471\n",
            "11            Italy               7.074031              0.926\n",
            "12            Korea               6.100000              2.907\n",
            "13       Luxembourg               7.556332              1.219\n",
            "14      Netherlands               7.695520              2.361\n",
            "15      New Zealand               7.700000              3.524\n",
            "16           Norway               7.980364              0.829\n",
            "17           Poland               7.783059              5.945\n",
            "18         Portugal               6.689225              2.849\n",
            "19  Slovak Republic               7.100000              4.031\n",
            "20            Spain               7.300000              2.283\n",
            "21           Sweden               7.796567               1.95\n",
            "22      Switzerland               7.963366              2.856\n",
            "23          Türkiye               5.700000              3.013\n",
            "24   United Kingdom               7.710000              1.705\n",
            "25         Colombia               8.264853              2.565\n",
            "26          Estonia               7.005767              3.784\n",
            "27           Latvia               6.737704              3.992\n",
            "28        Lithuania               6.382413              3.993\n",
            "29         Slovenia               7.310714              4.454\n"
          ]
        }
      ],
      "source": [
        "merged_train_data = pd.merge(hls_train, weo_selected_measurement_2018, on=\"Country\")\n",
        "merged_train_data = merged_train_data.rename(columns={\"Value\": \"Happiness Measurement\", \"2018\": \"Income Measurement\"})\n",
        "merged_train_data = pd.DataFrame(merged_train_data, columns=['Country','Happiness Measurement', 'Income Measurement'])\n",
        "\n",
        "print(merged_train_data)\n"
      ]
    },
    {
      "cell_type": "markdown",
      "metadata": {
        "id": "CRojq5AX40EH"
      },
      "source": [
        "### Fit Model with Data"
      ]
    },
    {
      "cell_type": "markdown",
      "metadata": {
        "id": "7szotq5p4px9"
      },
      "source": [
        "Now we need to think about a model to fit to data.\n",
        "<br>Since a commonly used model in this kind of study is a linear model:\n",
        "<br>\n",
        "<br> &emsp;&emsp;\n",
        " $\\mathrm{Y} = \\alpha + \\beta_{1}  \\mathrm{x}_{1} + \\beta_{2}  \\mathrm{x}_{2} + \\beta_{3}  \\mathrm{x}_{3} + \\ ......$\n",
        "<br>\n",
        "<br>We can try to fit this model to data and see if it works.\n"
      ]
    },
    {
      "cell_type": "code",
      "execution_count": 12,
      "metadata": {
        "colab": {
          "base_uri": "https://localhost:8080/",
          "height": 472,
          "referenced_widgets": [
            "0ea57cf0e49742f695305814b6bada11",
            "f4bc8489951146a19da5ee6d53c0f2ad",
            "44f0d883272543c4a3b244ea98a95374",
            "3bd64b96fd074c568423405c1c85942b",
            "9268e03bdb2e408786a2bffddb66ca71",
            "c351c8fcd7134c5f936155a7fb8d9d33"
          ]
        },
        "id": "fDLmsWa64pO1",
        "outputId": "5582620d-c0c1-4a86-9bdb-874dc1bed24c"
      },
      "outputs": [
        {
          "data": {
            "application/vnd.jupyter.widget-view+json": {
              "model_id": "fb60b6a756dc42d4b7450a98542e644f",
              "version_major": 2,
              "version_minor": 0
            },
            "text/plain": [
              "HBox(children=(Output(), Output()))"
            ]
          },
          "metadata": {},
          "output_type": "display_data"
        }
      ],
      "source": [
        "import matplotlib.pyplot as plt\n",
        "import sklearn.linear_model\n",
        "\n",
        "\n",
        "\n",
        "X = np.c_[merged_train_data[\"Income Measurement\"]]\n",
        "Y = np.c_[merged_train_data[\"Happiness Measurement\"]]\n",
        "x = X.tolist()\n",
        "y = Y.tolist()\n",
        "\n",
        "# plot data\n",
        "out1 = widgets.Output()\n",
        "with out1:\n",
        "  plt.scatter(x, y)\n",
        "  plt.xlabel('Income')\n",
        "  plt.ylabel('Happiness')\n",
        "  plt.title(\"Data Plot\")\n",
        "  plt.show()\n",
        "\n",
        "# fit linear model\n",
        "model = sklearn.linear_model.LinearRegression()\n",
        "model.fit(X, Y)\n",
        "\n",
        "# plot predictions\n",
        "predict_x = [x for x in range(901)]\n",
        "predict_x = [[x/100] for x in predict_x]\n",
        "predict_y = model.predict(predict_x)\n",
        "\n",
        "out2 = widgets.Output()\n",
        "with out2:\n",
        "  plt.scatter(predict_x, predict_y)\n",
        "  plt.scatter(x, y)\n",
        "  plt.xlabel('Income')\n",
        "  plt.ylabel('Happiness')\n",
        "  plt.title(\"Prediction Line\")\n",
        "  plt.show()\n",
        "\n",
        "display(widgets.HBox([out1,out2]))"
      ]
    },
    {
      "cell_type": "markdown",
      "metadata": {
        "id": "tQcrIf_T73ku"
      },
      "source": [
        "##### Class Activity"
      ]
    },
    {
      "cell_type": "markdown",
      "metadata": {
        "id": "NNbC5W2276t5"
      },
      "source": [
        "Does the result suggest that people are happier with more money? What potential problems do you think exist throughout the entire process?\n",
        "<br>\n",
        "<br> Consider a different approach (different representation of happiness & income, or a different model). Test your new approach and post in discussion.\n",
        "<br>\n",
        "<br> You may use below section if you find it convenient."
      ]
    },
    {
      "cell_type": "code",
      "execution_count": 13,
      "metadata": {
        "id": "gW2A5s-AdzIb"
      },
      "outputs": [
        {
          "name": "stdout",
          "output_type": "stream",
          "text": [
            "['Household income' 'Household wealth' 'Employment rate'\n",
            " 'Labour market insecurity' 'Households with internet access at home '\n",
            " 'Time off' 'Gender gap in working hours' 'Life expectancy at birth'\n",
            " 'Perceived health' 'Deaths from suicide, alcohol, drugs'\n",
            " 'Student skills (reading)' 'Student skills (maths)' 'Social support'\n",
            " 'Time spent in social interactions' 'Having a say in government'\n",
            " 'Voter turnout ' 'Homicides' 'Feeling safe at night' 'Road deaths'\n",
            " 'Life satisfaction' 'Relative income poverty ' 'Financial insecurity'\n",
            " 'Long-term unemployment rate'\n",
            " 'Youth not in employment, education or training'\n",
            " 'Housing cost overburden' 'Negative affect balance'\n",
            " 'Satisfaction with time use' 'Self-reported depression'\n",
            " 'Access to green space' 'Difficulty making ends meet'\n",
            " 'Poor households without access to basic sanitary facilities'\n",
            " 'Satisfaction with personal relationships' 'Long hours in paid work'\n",
            " 'Student skills (science)' 'Air pollution' 'Job strain'\n",
            " 'Long unpaid working hours' 'Housing affordability'\n",
            " 'Adult skills (literacy)' 'Adult skills (numeracy)' 'Overcrowding rate'\n",
            " 'Earnings' 'Gender wage gap']\n"
          ]
        }
      ],
      "source": [
        "# View other Indicators to Select From\n",
        "print(hls_all_raw.Indicator.unique()) \n"
      ]
    },
    {
      "cell_type": "code",
      "execution_count": 14,
      "metadata": {},
      "outputs": [
        {
          "name": "stdout",
          "output_type": "stream",
          "text": [
            "         Country                Indicator Type of indicator  Time      Value\n",
            "223    Australia  Housing cost overburden       Deprivation  2010  17.919439\n",
            "224    Australia  Housing cost overburden       Deprivation  2012  19.334128\n",
            "225    Australia  Housing cost overburden       Deprivation  2013  19.140367\n",
            "226    Australia  Housing cost overburden       Deprivation  2014  16.258423\n",
            "227    Australia  Housing cost overburden       Deprivation  2015  17.939125\n",
            "...          ...                      ...               ...   ...        ...\n",
            "11975   Slovenia  Housing cost overburden       Deprivation  2016  12.493672\n",
            "11976   Slovenia  Housing cost overburden       Deprivation  2017   9.868903\n",
            "11977   Slovenia  Housing cost overburden       Deprivation  2018  10.046690\n",
            "11978   Slovenia  Housing cost overburden       Deprivation  2019   6.551020\n",
            "11979   Slovenia  Housing cost overburden       Deprivation  2020   7.840473\n",
            "\n",
            "[335 rows x 5 columns]\n",
            "\n",
            "===========================================================\n",
            "\n",
            "Total records:\n",
            "335\n",
            "\n",
            "===========================================================\n",
            "\n",
            "Total Unique Countries:\n",
            "36\n",
            "\n",
            "===========================================================\n",
            "\n",
            "Country List\n",
            "['Australia' 'Austria' 'Belgium' 'Canada' 'Czechia' 'Denmark' 'Finland'\n",
            " 'France' 'Germany' 'Greece' 'Hungary' 'Iceland' 'Ireland' 'Italy' 'Japan'\n",
            " 'Korea' 'Luxembourg' 'Mexico' 'Netherlands' 'Norway' 'Poland' 'Portugal'\n",
            " 'Slovak Republic' 'Spain' 'Sweden' 'Switzerland' 'Türkiye'\n",
            " 'United Kingdom' 'United States' 'Chile' 'Colombia' 'Costa Rica'\n",
            " 'Estonia' 'Latvia' 'Lithuania' 'Slovenia']\n"
          ]
        }
      ],
      "source": [
        "hls_ds = hls_slice.loc[hls_all_raw[\"Indicator\"] == \"Housing cost overburden\"]\n",
        "print(hls_ds)\n",
        "print(\"\\n===========================================================\\n\")\n",
        "print(\"Total records:\")\n",
        "print(len(hls_ds))\n",
        "\n",
        "print(\"\\n===========================================================\\n\")\n",
        "print(\"Total Unique Countries:\")\n",
        "print(len(hls_ds[\"Country\"].unique()))\n",
        "\n",
        "print(\"\\n===========================================================\\n\")\n",
        "print(\"Country List\")\n",
        "print(hls_ds[\"Country\"].unique())"
      ]
    },
    {
      "cell_type": "code",
      "execution_count": 15,
      "metadata": {},
      "outputs": [
        {
          "name": "stdout",
          "output_type": "stream",
          "text": [
            "\n",
            "===========================================================\n",
            "\n",
            "Total records:\n",
            "34\n",
            "\n",
            "===========================================================\n",
            "\n",
            "Total Unique Countries:\n",
            "34\n",
            "\n",
            "===========================================================\n",
            "\n",
            "Record:\n",
            "               Country                Indicator Type of indicator  Time  \\\n",
            "230          Australia  Housing cost overburden       Deprivation  2018   \n",
            "570            Austria  Housing cost overburden       Deprivation  2018   \n",
            "902            Belgium  Housing cost overburden       Deprivation  2018   \n",
            "1232            Canada  Housing cost overburden       Deprivation  2018   \n",
            "1559           Czechia  Housing cost overburden       Deprivation  2018   \n",
            "1898           Denmark  Housing cost overburden       Deprivation  2018   \n",
            "2250           Finland  Housing cost overburden       Deprivation  2018   \n",
            "2580            France  Housing cost overburden       Deprivation  2018   \n",
            "2927           Germany  Housing cost overburden       Deprivation  2018   \n",
            "3271            Greece  Housing cost overburden       Deprivation  2018   \n",
            "3618           Hungary  Housing cost overburden       Deprivation  2018   \n",
            "3923           Iceland  Housing cost overburden       Deprivation  2018   \n",
            "4231           Ireland  Housing cost overburden       Deprivation  2018   \n",
            "4579             Italy  Housing cost overburden       Deprivation  2018   \n",
            "4867             Japan  Housing cost overburden       Deprivation  2018   \n",
            "5479        Luxembourg  Housing cost overburden       Deprivation  2018   \n",
            "5725            Mexico  Housing cost overburden       Deprivation  2018   \n",
            "6068       Netherlands  Housing cost overburden       Deprivation  2018   \n",
            "6682            Norway  Housing cost overburden       Deprivation  2018   \n",
            "7021            Poland  Housing cost overburden       Deprivation  2018   \n",
            "7366          Portugal  Housing cost overburden       Deprivation  2018   \n",
            "7665   Slovak Republic  Housing cost overburden       Deprivation  2018   \n",
            "8010             Spain  Housing cost overburden       Deprivation  2018   \n",
            "8347            Sweden  Housing cost overburden       Deprivation  2018   \n",
            "8658       Switzerland  Housing cost overburden       Deprivation  2018   \n",
            "8901           Türkiye  Housing cost overburden       Deprivation  2018   \n",
            "9255    United Kingdom  Housing cost overburden       Deprivation  2018   \n",
            "9557     United States  Housing cost overburden       Deprivation  2018   \n",
            "10129         Colombia  Housing cost overburden       Deprivation  2018   \n",
            "10300       Costa Rica  Housing cost overburden       Deprivation  2018   \n",
            "10596          Estonia  Housing cost overburden       Deprivation  2018   \n",
            "11186           Latvia  Housing cost overburden       Deprivation  2018   \n",
            "11496        Lithuania  Housing cost overburden       Deprivation  2018   \n",
            "11977         Slovenia  Housing cost overburden       Deprivation  2018   \n",
            "\n",
            "           Value  \n",
            "230    20.080906  \n",
            "570    11.706018  \n",
            "902    17.337064  \n",
            "1232   20.253982  \n",
            "1559    4.845865  \n",
            "1898   23.631078  \n",
            "2250   20.556445  \n",
            "2580    9.692421  \n",
            "2927   10.196503  \n",
            "3271   31.207374  \n",
            "3618   18.517907  \n",
            "3923   22.722749  \n",
            "4231    9.899022  \n",
            "4579   18.012169  \n",
            "4867   19.178082  \n",
            "5479   19.547668  \n",
            "5725    9.435047  \n",
            "6068   14.191413  \n",
            "6682   17.577624  \n",
            "7021   15.663233  \n",
            "7366   13.446650  \n",
            "7665    8.511908  \n",
            "8010   24.113835  \n",
            "8347   21.659365  \n",
            "8658   15.724348  \n",
            "8901   16.357672  \n",
            "9255   16.363455  \n",
            "9557   28.119111  \n",
            "10129  50.626212  \n",
            "10300  25.581899  \n",
            "10596  12.388992  \n",
            "11186   7.195389  \n",
            "11496   8.660818  \n",
            "11977  10.046690  \n"
          ]
        }
      ],
      "source": [
        "hls_ds_train = hls_ds.loc[hls_ds[\"Time\"] == 2018]\n",
        "hls_ds_train = hls_ds_train.loc[hls_ds[\"Type of indicator\"] == \"Deprivation\"]\n",
        "print(\"\\n===========================================================\\n\")\n",
        "print(\"Total records:\")\n",
        "print(len(hls_ds_train))\n",
        "\n",
        "print(\"\\n===========================================================\\n\")\n",
        "print(\"Total Unique Countries:\")\n",
        "print(len(hls_ds_train[\"Country\"].unique()))\n",
        "\n",
        "print(\"\\n===========================================================\\n\")\n",
        "print(\"Record:\")\n",
        "print(hls_ds_train)"
      ]
    },
    {
      "cell_type": "code",
      "execution_count": 16,
      "metadata": {},
      "outputs": [
        {
          "name": "stdout",
          "output_type": "stream",
          "text": [
            "            Country  Happiness Measurement  Housing Cost Deprivation\n",
            "0           Austria               8.002416                 11.706018\n",
            "1           Belgium               7.600000                 17.337064\n",
            "2            Canada               8.100000                 20.253982\n",
            "3           Czechia               7.436458                  4.845865\n",
            "4           Denmark               7.761102                 23.631078\n",
            "5           Finland               8.122618                 20.556445\n",
            "6            France               7.254388                  9.692421\n",
            "7           Germany               7.400000                 10.196503\n",
            "8            Greece               6.437686                 31.207374\n",
            "9           Hungary               6.506272                 18.517907\n",
            "10          Iceland               7.921508                 22.722749\n",
            "11          Ireland               8.100000                  9.899022\n",
            "12            Italy               7.074031                 18.012169\n",
            "13       Luxembourg               7.556332                 19.547668\n",
            "14      Netherlands               7.695520                 14.191413\n",
            "15           Norway               7.980364                 17.577624\n",
            "16           Poland               7.783059                 15.663233\n",
            "17         Portugal               6.689225                 13.446650\n",
            "18  Slovak Republic               7.100000                  8.511908\n",
            "19            Spain               7.300000                 24.113835\n",
            "20           Sweden               7.796567                 21.659365\n",
            "21      Switzerland               7.963366                 15.724348\n",
            "22          Türkiye               5.700000                 16.357672\n",
            "23   United Kingdom               7.710000                 16.363455\n",
            "24         Colombia               8.264853                 50.626212\n",
            "25          Estonia               7.005767                 12.388992\n",
            "26           Latvia               6.737704                  7.195389\n",
            "27        Lithuania               6.382413                  8.660818\n",
            "28         Slovenia               7.310714                 10.046690\n",
            "['Country' 'Happiness Measurement' 'Housing Cost Deprivation']\n"
          ]
        }
      ],
      "source": [
        "merged_train_data2 = pd.merge(hls_train, hls_ds_train, on=\"Country\")\n",
        "merged_train_data2 = merged_train_data2.rename(columns={\"Value_x\": \"Happiness Measurement\", \"Value_y\": \"Housing Cost Deprivation\"})\n",
        "merged_train_data2 = pd.DataFrame(merged_train_data2, columns=['Country','Happiness Measurement', 'Housing Cost Deprivation'])\n",
        "\n",
        "print(merged_train_data2)\n",
        "print(merged_train_data2.columns.values)"
      ]
    },
    {
      "cell_type": "code",
      "execution_count": 17,
      "metadata": {},
      "outputs": [
        {
          "data": {
            "application/vnd.jupyter.widget-view+json": {
              "model_id": "b76568e63225458a8ab197e352e61fd6",
              "version_major": 2,
              "version_minor": 0
            },
            "text/plain": [
              "HBox(children=(Output(), Output()))"
            ]
          },
          "metadata": {},
          "output_type": "display_data"
        }
      ],
      "source": [
        "X = np.c_[merged_train_data2[\"Housing Cost Deprivation\"]]\n",
        "Y = np.c_[merged_train_data2[\"Happiness Measurement\"]]\n",
        "x = X.tolist()\n",
        "y = Y.tolist()\n",
        "\n",
        "# plot data\n",
        "out1 = widgets.Output()\n",
        "with out1:\n",
        "  plt.scatter(x, y)\n",
        "  plt.xlabel('Housing Cost Deprivation')\n",
        "  plt.ylabel('Happiness')\n",
        "  plt.title(\"Data Plot\")\n",
        "  plt.show()\n",
        "\n",
        "# fit linear model\n",
        "model = sklearn.linear_model.LinearRegression()\n",
        "model.fit(X, Y)\n",
        "\n",
        "# plot predictions\n",
        "predict_x = [x for x in range(901)]\n",
        "predict_x = [[x/100] for x in predict_x]\n",
        "predict_y = model.predict(predict_x)\n",
        "\n",
        "out2 = widgets.Output()\n",
        "with out2:\n",
        "  plt.scatter(predict_x, predict_y)\n",
        "  plt.scatter(x, y)\n",
        "  plt.xlabel('Housing Cost Deprivation')\n",
        "  plt.ylabel('Happiness')\n",
        "  plt.title(\"Prediction Line\")\n",
        "  plt.show()\n",
        "\n",
        "display(widgets.HBox([out1,out2]))"
      ]
    }
  ],
  "metadata": {
    "colab": {
      "provenance": []
    },
    "kernelspec": {
      "display_name": "Python 3",
      "name": "python3"
    },
    "language_info": {
      "codemirror_mode": {
        "name": "ipython",
        "version": 3
      },
      "file_extension": ".py",
      "mimetype": "text/x-python",
      "name": "python",
      "nbconvert_exporter": "python",
      "pygments_lexer": "ipython3",
      "version": "3.11.8"
    },
    "widgets": {
      "application/vnd.jupyter.widget-state+json": {
        "0ea57cf0e49742f695305814b6bada11": {
          "model_module": "@jupyter-widgets/controls",
          "model_module_version": "1.5.0",
          "model_name": "HBoxModel",
          "state": {
            "_dom_classes": [],
            "_model_module": "@jupyter-widgets/controls",
            "_model_module_version": "1.5.0",
            "_model_name": "HBoxModel",
            "_view_count": null,
            "_view_module": "@jupyter-widgets/controls",
            "_view_module_version": "1.5.0",
            "_view_name": "HBoxView",
            "box_style": "",
            "children": [
              "IPY_MODEL_f4bc8489951146a19da5ee6d53c0f2ad",
              "IPY_MODEL_44f0d883272543c4a3b244ea98a95374"
            ],
            "layout": "IPY_MODEL_3bd64b96fd074c568423405c1c85942b"
          }
        },
        "3bd64b96fd074c568423405c1c85942b": {
          "model_module": "@jupyter-widgets/base",
          "model_module_version": "1.2.0",
          "model_name": "LayoutModel",
          "state": {
            "_model_module": "@jupyter-widgets/base",
            "_model_module_version": "1.2.0",
            "_model_name": "LayoutModel",
            "_view_count": null,
            "_view_module": "@jupyter-widgets/base",
            "_view_module_version": "1.2.0",
            "_view_name": "LayoutView",
            "align_content": null,
            "align_items": null,
            "align_self": null,
            "border": null,
            "bottom": null,
            "display": null,
            "flex": null,
            "flex_flow": null,
            "grid_area": null,
            "grid_auto_columns": null,
            "grid_auto_flow": null,
            "grid_auto_rows": null,
            "grid_column": null,
            "grid_gap": null,
            "grid_row": null,
            "grid_template_areas": null,
            "grid_template_columns": null,
            "grid_template_rows": null,
            "height": null,
            "justify_content": null,
            "justify_items": null,
            "left": null,
            "margin": null,
            "max_height": null,
            "max_width": null,
            "min_height": null,
            "min_width": null,
            "object_fit": null,
            "object_position": null,
            "order": null,
            "overflow": null,
            "overflow_x": null,
            "overflow_y": null,
            "padding": null,
            "right": null,
            "top": null,
            "visibility": null,
            "width": null
          }
        },
        "44f0d883272543c4a3b244ea98a95374": {
          "model_module": "@jupyter-widgets/output",
          "model_module_version": "1.0.0",
          "model_name": "OutputModel",
          "state": {
            "_dom_classes": [],
            "_model_module": "@jupyter-widgets/output",
            "_model_module_version": "1.0.0",
            "_model_name": "OutputModel",
            "_view_count": null,
            "_view_module": "@jupyter-widgets/output",
            "_view_module_version": "1.0.0",
            "_view_name": "OutputView",
            "layout": "IPY_MODEL_c351c8fcd7134c5f936155a7fb8d9d33",
            "msg_id": "",
            "outputs": [
              {
                "data": {
                  "image/png": "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\n",
                  "text/plain": "<Figure size 640x480 with 1 Axes>"
                },
                "metadata": {},
                "output_type": "display_data"
              }
            ]
          }
        },
        "9268e03bdb2e408786a2bffddb66ca71": {
          "model_module": "@jupyter-widgets/base",
          "model_module_version": "1.2.0",
          "model_name": "LayoutModel",
          "state": {
            "_model_module": "@jupyter-widgets/base",
            "_model_module_version": "1.2.0",
            "_model_name": "LayoutModel",
            "_view_count": null,
            "_view_module": "@jupyter-widgets/base",
            "_view_module_version": "1.2.0",
            "_view_name": "LayoutView",
            "align_content": null,
            "align_items": null,
            "align_self": null,
            "border": null,
            "bottom": null,
            "display": null,
            "flex": null,
            "flex_flow": null,
            "grid_area": null,
            "grid_auto_columns": null,
            "grid_auto_flow": null,
            "grid_auto_rows": null,
            "grid_column": null,
            "grid_gap": null,
            "grid_row": null,
            "grid_template_areas": null,
            "grid_template_columns": null,
            "grid_template_rows": null,
            "height": null,
            "justify_content": null,
            "justify_items": null,
            "left": null,
            "margin": null,
            "max_height": null,
            "max_width": null,
            "min_height": null,
            "min_width": null,
            "object_fit": null,
            "object_position": null,
            "order": null,
            "overflow": null,
            "overflow_x": null,
            "overflow_y": null,
            "padding": null,
            "right": null,
            "top": null,
            "visibility": null,
            "width": null
          }
        },
        "c351c8fcd7134c5f936155a7fb8d9d33": {
          "model_module": "@jupyter-widgets/base",
          "model_module_version": "1.2.0",
          "model_name": "LayoutModel",
          "state": {
            "_model_module": "@jupyter-widgets/base",
            "_model_module_version": "1.2.0",
            "_model_name": "LayoutModel",
            "_view_count": null,
            "_view_module": "@jupyter-widgets/base",
            "_view_module_version": "1.2.0",
            "_view_name": "LayoutView",
            "align_content": null,
            "align_items": null,
            "align_self": null,
            "border": null,
            "bottom": null,
            "display": null,
            "flex": null,
            "flex_flow": null,
            "grid_area": null,
            "grid_auto_columns": null,
            "grid_auto_flow": null,
            "grid_auto_rows": null,
            "grid_column": null,
            "grid_gap": null,
            "grid_row": null,
            "grid_template_areas": null,
            "grid_template_columns": null,
            "grid_template_rows": null,
            "height": null,
            "justify_content": null,
            "justify_items": null,
            "left": null,
            "margin": null,
            "max_height": null,
            "max_width": null,
            "min_height": null,
            "min_width": null,
            "object_fit": null,
            "object_position": null,
            "order": null,
            "overflow": null,
            "overflow_x": null,
            "overflow_y": null,
            "padding": null,
            "right": null,
            "top": null,
            "visibility": null,
            "width": null
          }
        },
        "f4bc8489951146a19da5ee6d53c0f2ad": {
          "model_module": "@jupyter-widgets/output",
          "model_module_version": "1.0.0",
          "model_name": "OutputModel",
          "state": {
            "_dom_classes": [],
            "_model_module": "@jupyter-widgets/output",
            "_model_module_version": "1.0.0",
            "_model_name": "OutputModel",
            "_view_count": null,
            "_view_module": "@jupyter-widgets/output",
            "_view_module_version": "1.0.0",
            "_view_name": "OutputView",
            "layout": "IPY_MODEL_9268e03bdb2e408786a2bffddb66ca71",
            "msg_id": "",
            "outputs": [
              {
                "data": {
                  "image/png": "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\n",
                  "text/plain": "<Figure size 640x480 with 1 Axes>"
                },
                "metadata": {},
                "output_type": "display_data"
              }
            ]
          }
        }
      }
    }
  },
  "nbformat": 4,
  "nbformat_minor": 0
}
